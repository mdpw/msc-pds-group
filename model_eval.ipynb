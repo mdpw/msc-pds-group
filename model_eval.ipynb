{
 "cells": [
  {
   "cell_type": "markdown",
   "metadata": {},
   "source": [
    "Linear Regression"
   ]
  },
  {
   "cell_type": "code",
   "execution_count": 1,
   "metadata": {},
   "outputs": [],
   "source": [
    "import pandas as pd\n",
    "from sklearn.model_selection import train_test_split\n",
    "from sklearn.linear_model import LinearRegression\n",
    "from sklearn.metrics import mean_squared_error, r2_score\n",
    "from sklearn.ensemble import RandomForestRegressor, GradientBoostingRegressor\n",
    "import matplotlib.pyplot as plt  \n",
    "%matplotlib inline    \n",
    "import matplotlib as mpl\n",
    "import seaborn as sns"
   ]
  },
  {
   "cell_type": "code",
   "execution_count": null,
   "metadata": {},
   "outputs": [],
   "source": [
    "final_merged_df = pd.read_csv(\"./dataset/final_merged_df.csv\")"
   ]
  },
  {
   "cell_type": "code",
   "execution_count": null,
   "metadata": {},
   "outputs": [],
   "source": [
    "# Encode the 'type' feature\n",
    "final_merged_df['type'] = final_merged_df['type'].astype('category').cat.codes\n",
    "\n",
    "# Encode the 'IsHoliday' feature\n",
    "final_merged_df['IsHoliday'] = final_merged_df['IsHoliday'].apply(lambda x: 0 if x is False else 1 if x is True else x)\n",
    "\n",
    "# Select the features for the model (excluding the target variable 'weekly_sales' and 'date')\n",
    "features = final_merged_df.drop(columns=['weekly_sales', 'date'])\n",
    "\n",
    "# Target variable\n",
    "target = final_merged_df['weekly_sales']\n",
    "\n",
    "# Split the dataset into training and testing sets\n",
    "X_train, X_test, y_train, y_test = train_test_split(features, target, test_size=0.2, random_state=42)\n",
    "\n",
    "# Initialize and train the Linear Regression model\n",
    "model = LinearRegression()\n",
    "model.fit(X_train, y_train)\n",
    "\n",
    "# Making predictions on test set\n",
    "y_pred = model.predict(X_test)\n",
    "\n",
    "# Evaluate the model\n",
    "lr_mse = mean_squared_error(y_test, y_pred)\n",
    "lr_r2 = r2_score(y_test, y_pred)\n",
    "\n",
    "print(lr_mse)\n",
    "print(lr_r2)"
   ]
  },
  {
   "cell_type": "markdown",
   "metadata": {},
   "source": [
    "Random Forest Regression (n_est = 50)"
   ]
  },
  {
   "cell_type": "code",
   "execution_count": null,
   "metadata": {},
   "outputs": [],
   "source": [
    "import time\n",
    "\n",
    "# Start time\n",
    "start_time = time.time()\n",
    "rf_model_1 = RandomForestRegressor(n_estimators=50, random_state=42)\n",
    "rf_model_1.fit(X_train, y_train)\n",
    "rf_pred_1 = rf_model_1.predict(X_test)\n",
    "rf_mse_1 = mean_squared_error(y_test, rf_pred_1)\n",
    "rf_r2_1 = r2_score(y_test, rf_pred_1)\n",
    "# End time\n",
    "end_time = time.time()\n",
    "\n",
    "# Calculate the execution time in minutes\n",
    "execution_time = (end_time - start_time) / 60\n",
    "print(\"Execution Time: \", execution_time)\n",
    "print(\"R^2 VALUE: \", rf_r2_1)"
   ]
  },
  {
   "cell_type": "markdown",
   "metadata": {},
   "source": [
    "Random Forest Regression (n_est = 50, max_depth = 100)"
   ]
  },
  {
   "cell_type": "code",
   "execution_count": null,
   "metadata": {},
   "outputs": [],
   "source": [
    "# Model: Random Forest Regressor (n_estimators=50, max_depth=100)\n",
    "# Start time\n",
    "start_time = time.time()\n",
    "rf_model_1_100 = RandomForestRegressor(n_estimators=50, max_depth=100, random_state=42)\n",
    "rf_model_1_100.fit(X_train, y_train)\n",
    "rf_pred_1_100  = rf_model_1_100.predict(X_test)\n",
    "rf_mse_1_100 = mean_squared_error(y_test, rf_pred_1_100)\n",
    "rf_r2_1_100 = r2_score(y_test, rf_pred_1_100)\n",
    "# End time\n",
    "end_time = time.time()\n",
    "\n",
    "# Calculate the execution time in minutes\n",
    "execution_time = (end_time - start_time) / 60\n",
    "print(\"Execution Time: \", execution_time)\n",
    "print(\"R^2 VALUE: \", rf_r2_1_100)"
   ]
  },
  {
   "cell_type": "markdown",
   "metadata": {},
   "source": [
    "Random Forest Regression (n_est = 100)"
   ]
  },
  {
   "cell_type": "code",
   "execution_count": null,
   "metadata": {},
   "outputs": [],
   "source": [
    "# Model: Random Forest Regressor (n_estimators=100)\n",
    "# Start time\n",
    "start_time = time.time()\n",
    "rf_model_2 = RandomForestRegressor(n_estimators=100, random_state=42)\n",
    "rf_model_2.fit(X_train, y_train)\n",
    "rf_pred_2 = rf_model_2.predict(X_test)\n",
    "rf_mse_2 = mean_squared_error(y_test, rf_pred_2)\n",
    "rf_r2_2 = r2_score(y_test, rf_pred_2)\n",
    "# End time\n",
    "end_time = time.time()\n",
    "\n",
    "# Calculate the execution time in minutes\n",
    "execution_time = (end_time - start_time) / 60\n",
    "print(\"Execution Time: \", execution_time)\n",
    "print(\"R^2 VALUE: \", rf_r2_2)"
   ]
  },
  {
   "cell_type": "markdown",
   "metadata": {},
   "source": [
    "Random Forest Regression (n_est = 100, max_depth = 100)"
   ]
  },
  {
   "cell_type": "code",
   "execution_count": null,
   "metadata": {},
   "outputs": [],
   "source": [
    "# Model: Random Forest Regressor (n_estimators=100)\n",
    "# Start time\n",
    "start_time = time.time()\n",
    "rf_model_2_100 = RandomForestRegressor(n_estimators=100, max_depth=100, random_state=42)\n",
    "rf_model_2_100.fit(X_train, y_train)\n",
    "rf_pred_2_100 = rf_model_2_100.predict(X_test)\n",
    "rf_mse_2_100 = mean_squared_error(y_test, rf_pred_2_100)\n",
    "rf_r2_2_100 = r2_score(y_test, rf_pred_2_100)\n",
    "# End time\n",
    "end_time = time.time()\n",
    "\n",
    "# Calculate the execution time in minutes\n",
    "execution_time = (end_time - start_time) / 60\n",
    "print(\"Execution Time: \", execution_time)\n",
    "print(\"R^2 VALUE: \", rf_r2_2_100)"
   ]
  }
 ],
 "metadata": {
  "kernelspec": {
   "display_name": "base",
   "language": "python",
   "name": "python3"
  },
  "language_info": {
   "codemirror_mode": {
    "name": "ipython",
    "version": 3
   },
   "file_extension": ".py",
   "mimetype": "text/x-python",
   "name": "python",
   "nbconvert_exporter": "python",
   "pygments_lexer": "ipython3",
   "version": "3.12.4"
  }
 },
 "nbformat": 4,
 "nbformat_minor": 2
}
