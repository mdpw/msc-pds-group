{
 "cells": [
  {
   "cell_type": "markdown",
   "metadata": {},
   "source": [
    "Linear Regression"
   ]
  },
  {
   "cell_type": "code",
   "execution_count": 1,
   "metadata": {},
   "outputs": [],
   "source": [
    "import pandas as pd\n",
    "from sklearn.model_selection import train_test_split\n",
    "from sklearn.linear_model import LinearRegression\n",
    "from sklearn.metrics import mean_squared_error, r2_score\n",
    "from sklearn.ensemble import RandomForestRegressor, GradientBoostingRegressor\n",
    "import matplotlib.pyplot as plt  \n",
    "%matplotlib inline    \n",
    "import matplotlib as mpl\n",
    "import seaborn as sns"
   ]
  },
  {
   "cell_type": "code",
   "execution_count": 2,
   "metadata": {},
   "outputs": [],
   "source": [
    "final_merged_df = pd.read_csv(\"./dataset/final_merged_df.csv\")"
   ]
  },
  {
   "cell_type": "code",
   "execution_count": 3,
   "metadata": {},
   "outputs": [
    {
     "name": "stdout",
     "output_type": "stream",
     "text": [
      "469565060.4250614\n",
      "0.08465752098924029\n"
     ]
    }
   ],
   "source": [
    "# Encode the 'type' feature\n",
    "final_merged_df['type'] = final_merged_df['type'].astype('category').cat.codes\n",
    "\n",
    "# Encode the 'IsHoliday' feature\n",
    "final_merged_df['IsHoliday'] = final_merged_df['IsHoliday'].apply(lambda x: 0 if x is False else 1 if x is True else x)\n",
    "\n",
    "# Select the features for the model (excluding the target variable 'weekly_sales' and 'date')\n",
    "features = final_merged_df.drop(columns=['weekly_sales', 'date'])\n",
    "\n",
    "# Target variable\n",
    "target = final_merged_df['weekly_sales']\n",
    "\n",
    "# Split the dataset into training and testing sets\n",
    "X_train, X_test, y_train, y_test = train_test_split(features, target, test_size=0.2, random_state=42)\n",
    "\n",
    "# Initialize and train the Linear Regression model\n",
    "model = LinearRegression()\n",
    "model.fit(X_train, y_train)\n",
    "\n",
    "# Making predictions on test set\n",
    "y_pred = model.predict(X_test)\n",
    "\n",
    "# Evaluate the model\n",
    "lr_mse = mean_squared_error(y_test, y_pred)\n",
    "lr_r2 = r2_score(y_test, y_pred)\n",
    "\n",
    "print(lr_mse)\n",
    "print(lr_r2)"
   ]
  },
  {
   "cell_type": "markdown",
   "metadata": {},
   "source": [
    "Random Forest Regression (n_est = 50)"
   ]
  },
  {
   "cell_type": "code",
   "execution_count": 4,
   "metadata": {},
   "outputs": [
    {
     "name": "stdout",
     "output_type": "stream",
     "text": [
      "Execution Time:  4.333174312114716\n",
      "R^2 VALUE:  0.9730697070271223\n"
     ]
    }
   ],
   "source": [
    "import time\n",
    "\n",
    "# Start time\n",
    "start_time = time.time()\n",
    "rf_model_1 = RandomForestRegressor(n_estimators=50, random_state=42)\n",
    "rf_model_1.fit(X_train, y_train)\n",
    "rf_pred_1 = rf_model_1.predict(X_test)\n",
    "rf_mse_1 = mean_squared_error(y_test, rf_pred_1)\n",
    "rf_r2_1 = r2_score(y_test, rf_pred_1)\n",
    "# End time\n",
    "end_time = time.time()\n",
    "\n",
    "# Calculate the execution time in minutes\n",
    "execution_time = (end_time - start_time) / 60\n",
    "print(\"Execution Time: \", execution_time)\n",
    "print(\"R^2 VALUE: \", rf_r2_1)"
   ]
  },
  {
   "cell_type": "markdown",
   "metadata": {},
   "source": [
    "Random Forest Regression (n_est = 50, max_depth = 100)"
   ]
  },
  {
   "cell_type": "code",
   "execution_count": 5,
   "metadata": {},
   "outputs": [
    {
     "name": "stdout",
     "output_type": "stream",
     "text": [
      "Execution Time:  4.606981468200684\n",
      "R^2 VALUE:  0.9730697070271223\n"
     ]
    }
   ],
   "source": [
    "# Model: Random Forest Regressor (n_estimators=50, max_depth=100)\n",
    "# Start time\n",
    "start_time = time.time()\n",
    "rf_model_1_100 = RandomForestRegressor(n_estimators=50, max_depth=100, random_state=42)\n",
    "rf_model_1_100.fit(X_train, y_train)\n",
    "rf_pred_1_100  = rf_model_1_100.predict(X_test)\n",
    "rf_mse_1_100 = mean_squared_error(y_test, rf_pred_1_100)\n",
    "rf_r2_1_100 = r2_score(y_test, rf_pred_1_100)\n",
    "# End time\n",
    "end_time = time.time()\n",
    "\n",
    "# Calculate the execution time in minutes\n",
    "execution_time = (end_time - start_time) / 60\n",
    "print(\"Execution Time: \", execution_time)\n",
    "print(\"R^2 VALUE: \", rf_r2_1_100)"
   ]
  },
  {
   "cell_type": "markdown",
   "metadata": {},
   "source": [
    "Random Forest Regression (n_est = 100)"
   ]
  },
  {
   "cell_type": "code",
   "execution_count": 6,
   "metadata": {},
   "outputs": [
    {
     "name": "stdout",
     "output_type": "stream",
     "text": [
      "Execution Time:  9.309381516774495\n",
      "R^2 VALUE:  0.9735249050803386\n"
     ]
    }
   ],
   "source": [
    "# Model: Random Forest Regressor (n_estimators=100)\n",
    "# Start time\n",
    "start_time = time.time()\n",
    "rf_model_2 = RandomForestRegressor(n_estimators=100, random_state=42)\n",
    "rf_model_2.fit(X_train, y_train)\n",
    "rf_pred_2 = rf_model_2.predict(X_test)\n",
    "rf_mse_2 = mean_squared_error(y_test, rf_pred_2)\n",
    "rf_r2_2 = r2_score(y_test, rf_pred_2)\n",
    "# End time\n",
    "end_time = time.time()\n",
    "\n",
    "# Calculate the execution time in minutes\n",
    "execution_time = (end_time - start_time) / 60\n",
    "print(\"Execution Time: \", execution_time)\n",
    "print(\"R^2 VALUE: \", rf_r2_2)"
   ]
  },
  {
   "cell_type": "markdown",
   "metadata": {},
   "source": [
    "Random Forest Regression (n_est = 100, max_depth = 100)"
   ]
  },
  {
   "cell_type": "code",
   "execution_count": 7,
   "metadata": {},
   "outputs": [
    {
     "name": "stdout",
     "output_type": "stream",
     "text": [
      "Execution Time:  7.913285434246063\n",
      "R^2 VALUE:  0.9735249050803386\n"
     ]
    }
   ],
   "source": [
    "# Model: Random Forest Regressor (n_estimators=100)\n",
    "# Start time\n",
    "start_time = time.time()\n",
    "rf_model_2_100 = RandomForestRegressor(n_estimators=100, max_depth=100, random_state=42)\n",
    "rf_model_2_100.fit(X_train, y_train)\n",
    "rf_pred_2_100 = rf_model_2_100.predict(X_test)\n",
    "rf_mse_2_100 = mean_squared_error(y_test, rf_pred_2_100)\n",
    "rf_r2_2_100 = r2_score(y_test, rf_pred_2_100)\n",
    "# End time\n",
    "end_time = time.time()\n",
    "\n",
    "# Calculate the execution time in minutes\n",
    "execution_time = (end_time - start_time) / 60\n",
    "print(\"Execution Time: \", execution_time)\n",
    "print(\"R^2 VALUE: \", rf_r2_2_100)"
   ]
  },
  {
   "cell_type": "markdown",
   "metadata": {},
   "source": [
    "Gradient Boosting (n_est = 50)"
   ]
  },
  {
   "cell_type": "code",
   "execution_count": 8,
   "metadata": {},
   "outputs": [
    {
     "name": "stdout",
     "output_type": "stream",
     "text": [
      "Execution Time:  0.5789549469947814\n",
      "R^2 VALUE:  0.648959916186119\n"
     ]
    }
   ],
   "source": [
    "# Model: Gradient Boosting Regressor\n",
    "start_time = time.time()\n",
    "gb_model_1 = GradientBoostingRegressor(n_estimators=50, random_state=42)\n",
    "gb_model_1.fit(X_train, y_train)\n",
    "gb_pred_1 = gb_model_1.predict(X_test)\n",
    "gb_mse_1 = mean_squared_error(y_test, gb_pred_1)\n",
    "gb_r2_1 = r2_score(y_test, gb_pred_1)\n",
    "end_time = time.time()\n",
    "\n",
    "# Calculate the execution time in minutes\n",
    "execution_time = (end_time - start_time) / 60\n",
    "print(\"Execution Time: \", execution_time)\n",
    "print(\"R^2 VALUE: \", gb_r2_1)"
   ]
  },
  {
   "cell_type": "markdown",
   "metadata": {},
   "source": [
    "Gradient Boosting (n_est = 100)"
   ]
  },
  {
   "cell_type": "code",
   "execution_count": 9,
   "metadata": {},
   "outputs": [
    {
     "name": "stdout",
     "output_type": "stream",
     "text": [
      "Execution Time:  1.1126955469449362\n",
      "R^2 VALUE:  0.7343316156615526\n"
     ]
    }
   ],
   "source": [
    "# Model: Gradient Boosting Regressor\n",
    "start_time = time.time()\n",
    "gb_model = GradientBoostingRegressor(n_estimators=100, random_state=42)\n",
    "gb_model.fit(X_train, y_train)\n",
    "gb_pred_2 = gb_model.predict(X_test)\n",
    "gb_mse_2 = mean_squared_error(y_test, gb_pred_2)\n",
    "gb_r2_2 = r2_score(y_test, gb_pred_2)\n",
    "end_time = time.time()\n",
    "\n",
    "# Calculate the execution time in minutes\n",
    "execution_time = (end_time - start_time) / 60\n",
    "print(\"Execution Time: \", execution_time)\n",
    "print(\"R^2 VALUE: \", gb_r2_2)"
   ]
  },
  {
   "cell_type": "markdown",
   "metadata": {},
   "source": [
    "Gradient Boosting (n_est = 200)"
   ]
  },
  {
   "cell_type": "code",
   "execution_count": 10,
   "metadata": {},
   "outputs": [
    {
     "name": "stdout",
     "output_type": "stream",
     "text": [
      "Execution Time:  2.2809169769287108\n",
      "R^2 VALUE:  0.7948637922668845\n"
     ]
    }
   ],
   "source": [
    "# Model: Gradient Boosting Regressor\n",
    "start_time = time.time()\n",
    "gb_model = GradientBoostingRegressor(n_estimators=200, random_state=42)\n",
    "gb_model.fit(X_train, y_train)\n",
    "gb_pred_3 = gb_model.predict(X_test)\n",
    "gb_mse_3 = mean_squared_error(y_test, gb_pred_3)\n",
    "gb_r2_3 = r2_score(y_test, gb_pred_3)\n",
    "end_time = time.time()\n",
    "\n",
    "# Calculate the execution time in minutes\n",
    "execution_time = (end_time - start_time) / 60\n",
    "print(\"Execution Time: \", execution_time)\n",
    "print(\"R^2 VALUE: \", gb_r2_3)"
   ]
  },
  {
   "cell_type": "markdown",
   "metadata": {},
   "source": [
    "Compile the results with MSE and R^2"
   ]
  },
  {
   "cell_type": "code",
   "execution_count": 11,
   "metadata": {},
   "outputs": [
    {
     "name": "stderr",
     "output_type": "stream",
     "text": [
      "C:\\Users\\User\\AppData\\Local\\Temp\\ipykernel_25228\\535605716.py:16: FutureWarning: \n",
      "\n",
      "Passing `palette` without assigning `hue` is deprecated and will be removed in v0.14.0. Assign the `y` variable to `hue` and set `legend=False` for the same effect.\n",
      "\n",
      "  sns.barplot(x=\"MSE\", y=\"Model\", data=results_df, palette=\"viridis\")\n",
      "C:\\Users\\User\\AppData\\Local\\Temp\\ipykernel_25228\\535605716.py:23: FutureWarning: \n",
      "\n",
      "Passing `palette` without assigning `hue` is deprecated and will be removed in v0.14.0. Assign the `y` variable to `hue` and set `legend=False` for the same effect.\n",
      "\n",
      "  sns.barplot(x=\"R² Score\", y=\"Model\", data=results_df, palette=\"viridis\")\n"
     ]
    },
    {
     "data": {
      "image/png": "[encoded data removed]",
      "text/plain": [
       "<Figure size 1400x800 with 2 Axes>"
      ]
     },
     "metadata": {},
     "output_type": "display_data"
    }
   ],
   "source": [
    "results = {\n",
    "    \"Model\": [\"Linear Regression\",\"Random Forest\", \"Random Forest\" ,\"Random Forest\", \"Random Forest\", \"Gradient Boosting\", \"Gradient Boosting\", \"Gradient Boosting\"],# Compile the results with MSE and R^2\n",
    "    \"MSE\": [lr_mse, rf_mse_1, rf_mse_1_100, rf_mse_2, rf_mse_2_100, gb_mse_1, gb_mse_2, gb_mse_3],\n",
    "    \"R² Score\": [lr_r2, rf_r2_1, rf_r2_1_100, rf_r2_2, rf_r2_2_100, gb_r2_1, gb_r2_2, gb_r2_3]\n",
    "}\n",
    "\n",
    "results_df = pd.DataFrame(results)\n",
    "results_df\n",
    "\n",
    "# Set the style and size of the plots\n",
    "sns.set(style=\"whitegrid\")\n",
    "plt.figure(figsize=(14, 8))\n",
    "\n",
    "# Create a bar plot for MSE\n",
    "plt.subplot(2, 1, 1)\n",
    "sns.barplot(x=\"MSE\", y=\"Model\", data=results_df, palette=\"viridis\")\n",
    "plt.title('Mean Squared Error (MSE) of Different Models')\n",
    "plt.xlabel('MSE')\n",
    "plt.ylabel('Model')\n",
    "\n",
    "# Create a bar plot for R² Score\n",
    "plt.subplot(2, 1, 2)\n",
    "sns.barplot(x=\"R² Score\", y=\"Model\", data=results_df, palette=\"viridis\")\n",
    "plt.title('R² Score of Different Models')\n",
    "plt.xlabel('R² Score')\n",
    "plt.ylabel('Model')\n",
    "\n",
    "# Adjust the layout to prevent overlap\n",
    "plt.tight_layout()\n",
    "\n",
    "# Show the plots\n",
    "plt.show()"
   ]
  },
  {
   "cell_type": "code",
   "execution_count": 12,
   "metadata": {},
   "outputs": [
    {
     "data": {
      "text/plain": [
       "{'Model': ['Linear Regression',\n",
       "  'Random Forest',\n",
       "  'Random Forest',\n",
       "  'Random Forest',\n",
       "  'Random Forest',\n",
       "  'Gradient Boosting',\n",
       "  'Gradient Boosting',\n",
       "  'Gradient Boosting'],\n",
       " 'MSE': [469565060.4250614,\n",
       "  13815074.61637789,\n",
       "  13815074.61637789,\n",
       "  13581560.815516267,\n",
       "  13581560.815516267,\n",
       "  180081403.35170215,\n",
       "  136286246.73874125,\n",
       "  105233612.54212701],\n",
       " 'R² Score': [0.08465752098924029,\n",
       "  0.9730697070271223,\n",
       "  0.9730697070271223,\n",
       "  0.9735249050803386,\n",
       "  0.9735249050803386,\n",
       "  0.648959916186119,\n",
       "  0.7343316156615526,\n",
       "  0.7948637922668845]}"
      ]
     },
     "execution_count": 12,
     "metadata": {},
     "output_type": "execute_result"
    }
   ],
   "source": [
    "results"
   ]
  }
 ],
 "metadata": {
  "kernelspec": {
   "display_name": "Python 3",
   "language": "python",
   "name": "python3"
  },
  "language_info": {
   "codemirror_mode": {
    "name": "ipython",
    "version": 3
   },
   "file_extension": ".py",
   "mimetype": "text/x-python",
   "name": "python",
   "nbconvert_exporter": "python",
   "pygments_lexer": "ipython3",
   "version": "3.11.1"
  }
 },
 "nbformat": 4,
 "nbformat_minor": 2
}
