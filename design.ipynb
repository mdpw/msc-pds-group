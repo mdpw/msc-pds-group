{
 "cells": [
  {
   "cell_type": "markdown",
   "metadata": {},
   "source": [
    "### Perform an ETL process to clean, transform, and integrate the data for analysis. Ensure proper documentation of your pipeline."
   ]
  },
  {
   "cell_type": "code",
   "execution_count": null,
   "metadata": {},
   "outputs": [],
   "source": [
    "### Load Dataset\n",
    "df = pd.read_csv('./dataset/files.csv')\n",
    "\n",
    "### Getting to know about data\n",
    "df.head()\n",
    "df.shape()\n",
    "df.describe()\n",
    "df.info()\n",
    "\n",
    "### Merging the dataset\n",
    "df=df1.merge(df2, how=\"left\").merge(df3,how=\"left\")\n",
    "df.head()\n",
    "\n",
    "### Data Cleaning and Preprocessing\n",
    "### check for outliars\n",
    "### remove null\n",
    "### check for duplicates"
   ]
  },
  {
   "cell_type": "markdown",
   "metadata": {},
   "source": [
    "### Use clustering techniques to identify patterns or groupings within the data (e.g., customer segmentation, service performance, demand forecasting, etc.)."
   ]
  },
  {
   "cell_type": "code",
   "execution_count": null,
   "metadata": {},
   "outputs": [],
   "source": [
    "### Visualizing and analysing current trends"
   ]
  },
  {
   "cell_type": "markdown",
   "metadata": {},
   "source": [
    "### Develop a forecasting model to predict future trends based on your dataset (e.g., sales performance, customer satisfaction, order volumes)."
   ]
  },
  {
   "cell_type": "code",
   "execution_count": null,
   "metadata": {},
   "outputs": [],
   "source": [
    "### Select suitable model\n",
    "### Build the model\n",
    "### Train the model\n",
    "### Evaluate the model\n",
    "### Forcasting future\n",
    "### Solution proposal"
   ]
  },
  {
   "cell_type": "markdown",
   "metadata": {},
   "source": [
    "### Documentation"
   ]
  },
  {
   "cell_type": "code",
   "execution_count": null,
   "metadata": {},
   "outputs": [],
   "source": [
    "https://www.kaggle.com/code/d4rklucif3r/walmart-sales-anai\n",
    "https://www.kaggle.com/code/tanishqjazz/project-walmart-sale-forecasting-prediction/notebook#USING-VARIOUS-INDIVISUAL-REGRESSION-MODELS\n",
    "### Apply Dumira's code"
   ]
  }
 ],
 "metadata": {
  "kernelspec": {
   "display_name": "Python 3",
   "language": "python",
   "name": "python3"
  },
  "language_info": {
   "codemirror_mode": {
    "name": "ipython",
    "version": 3
   },
   "file_extension": ".py",
   "mimetype": "text/x-python",
   "name": "python",
   "nbconvert_exporter": "python",
   "pygments_lexer": "ipython3",
   "version": "3.11.1"
  }
 },
 "nbformat": 4,
 "nbformat_minor": 2
}
